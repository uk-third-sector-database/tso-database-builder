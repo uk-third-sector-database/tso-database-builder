{
 "cells": [
  {
   "cell_type": "code",
   "execution_count": 3,
   "metadata": {},
   "outputs": [],
   "source": [
    "import csv\n",
    "\n",
    "d = set()\n",
    "filename = '/Users/fionack/Projects/TSO_project/processed_data/TSOUK_spine_Oct2023.csv'\n",
    "with open(filename, newline=\"\") as csvfile:\n",
    "        reader = csv.DictReader(csvfile)\n",
    "        for row in reader:\n",
    "            d.add(row['uid'])\n",
    "\n",
    "\n"
   ]
  },
  {
   "cell_type": "code",
   "execution_count": 11,
   "metadata": {},
   "outputs": [],
   "source": [
    "sc = set()\n",
    "filename = '/Users/fionack/Projects/TSO_project/TSO_source_code/oscrids.csv'\n",
    "with open(filename, newline=\"\") as csvfile:\n",
    "        reader = csv.DictReader(csvfile)\n",
    "        for row in reader:\n",
    "            sc.add('GB-SC-%s'%row['oscrid'])"
   ]
  },
  {
   "cell_type": "code",
   "execution_count": 12,
   "metadata": {},
   "outputs": [
    {
     "data": {
      "text/plain": [
       "['GB-COH-13232642',\n",
       " 'GB-COH-10715859',\n",
       " 'GB-CHC-1139754',\n",
       " 'GB-CHC-292818',\n",
       " 'GB-CHC-1036575',\n",
       " 'GB-CHC-218926',\n",
       " 'GB-CHC-1075368_GB-COH-03434953',\n",
       " 'GB-COH-09515224',\n",
       " 'GB-CHC-1065095_GB-COH-03336979',\n",
       " 'GB-CHC-1176604_GB-COH-CE012888']"
      ]
     },
     "execution_count": 12,
     "metadata": {},
     "output_type": "execute_result"
    }
   ],
   "source": [
    "list(d)[:10]"
   ]
  },
  {
   "cell_type": "code",
   "execution_count": 15,
   "metadata": {},
   "outputs": [
    {
     "name": "stdout",
     "output_type": "stream",
     "text": [
      "GB-SC-SC037903 in spine: False\n",
      "GB-SC-SC042473 in spine: False\n",
      "GB-SC-SC039258 in spine: False\n",
      "GB-SC-SC039236 in spine: False\n",
      "GB-SC-SC037737 in spine: False\n",
      "GB-SC-SC038262 in spine: False\n",
      "GB-SC-SC037843 in spine: False\n",
      "GB-SC-SC040972 in spine: False\n",
      "GB-SC-SC032622 in spine: False\n",
      "GB-SC-SC038109 in spine: False\n",
      "GB-SC-SC039929 in spine: False\n",
      "GB-SC-SC039573 in spine: False\n",
      "GB-SC-SC040811 in spine: False\n",
      "GB-SC-SC040357 in spine: False\n",
      "GB-SC-SC041161 in spine: False\n",
      "GB-SC-SC038213 in spine: False\n",
      "GB-SC-SC003878 in spine: False\n",
      "GB-SC-SC013035 in spine: False\n",
      "GB-SC-SC041867 in spine: False\n",
      "GB-SC-SC038105 in spine: False\n",
      "GB-SC-SC039948 in spine: False\n",
      "GB-SC-SC037867 in spine: False\n",
      "GB-SC-SC020680 in spine: False\n"
     ]
    }
   ],
   "source": [
    "for s in list(sc):\n",
    "    if not s in d:\n",
    "        print(f'{s} in spine: {s in d}')"
   ]
  },
  {
   "cell_type": "markdown",
   "metadata": {},
   "source": [
    "Old process for Care Inspectorate (for matching spine) v New - have we lost anything?"
   ]
  },
  {
   "cell_type": "code",
   "execution_count": 2,
   "metadata": {},
   "outputs": [],
   "source": [
    "import csv\n",
    "\n",
    "\n",
    "def uid_dict(file):\n",
    "    d = {}\n",
    "    with open(file) as csvfile:\n",
    "        reader = csv.DictReader(csvfile)\n",
    "        for line in reader:\n",
    "            uid = line['uid']\n",
    "            if not uid in d:\n",
    "                d[uid] = {line['organisationname']}\n",
    "            else:\n",
    "                d[uid].add(line['organisationname'])\n",
    "                d[uid].discard('')\n",
    "    return d\n",
    "\n"
   ]
  },
  {
   "cell_type": "code",
   "execution_count": 21,
   "metadata": {},
   "outputs": [
    {
     "data": {
      "text/plain": [
       "{'East Park', 'East Park School'}"
      ]
     },
     "execution_count": 21,
     "metadata": {},
     "output_type": "execute_result"
    }
   ],
   "source": [
    "old = '../TSO_project/spine_data/MDSF_data_31 March 2018.csv.spine.csv'\n",
    "new = 'MDSF_data_31March2018.csv.spine.csv'\n",
    "\n",
    "d_old = uid_dict(old)\n",
    "d_new = uid_dict(new)\n",
    "len(d_old)\n",
    "d_old['GB-CIS-CS2003000137']"
   ]
  },
  {
   "cell_type": "code",
   "execution_count": 22,
   "metadata": {},
   "outputs": [
    {
     "data": {
      "text/plain": [
       "2631"
      ]
     },
     "execution_count": 22,
     "metadata": {},
     "output_type": "execute_result"
    }
   ],
   "source": [
    "len(d_new)"
   ]
  },
  {
   "cell_type": "code",
   "execution_count": 11,
   "metadata": {},
   "outputs": [],
   "source": [
    "def compare(d_old,d_new):\n",
    "    print(f' UID lists identical? {d_old.keys() == d_new.keys()}')\n",
    "\n",
    "    for k in d_old.keys():\n",
    "        if not k in d_new:\n",
    "            print(f'id {k} in old but not new')\n",
    "            continue\n",
    "        if not d_old[k] == d_new[k]:\n",
    "            print(f'Difference for uid {k}: old: {d_old[k]}, new: {d_new[k]}')"
   ]
  },
  {
   "cell_type": "code",
   "execution_count": 28,
   "metadata": {},
   "outputs": [
    {
     "data": {
      "text/plain": [
       "True"
      ]
     },
     "execution_count": 28,
     "metadata": {},
     "output_type": "execute_result"
    }
   ],
   "source": [
    "d_old.keys() == d_new.keys()"
   ]
  },
  {
   "cell_type": "code",
   "execution_count": 29,
   "metadata": {},
   "outputs": [],
   "source": [
    "cqc_new = 'spine_data/CQC_Jan_2023.spine.csv'\n",
    "cqc_old = '../TSO_project/spine_data/CQC_Jan_2023.spine.csv'\n",
    "\n",
    "\n",
    "d_old = uid_dict(cqc_old)\n",
    "d_new = uid_dict(cqc_new)"
   ]
  },
  {
   "cell_type": "code",
   "execution_count": 13,
   "metadata": {},
   "outputs": [
    {
     "name": "stdout",
     "output_type": "stream",
     "text": [
      " UID lists identical? True\n"
     ]
    }
   ],
   "source": [
    "old = '../TSO_project/spine_data/ccew.spine.csv'\n",
    "new = 'spine_data/ccew.spine.csv'\n",
    "\n",
    "\n",
    "d_old = uid_dict(old)\n",
    "d_new = uid_dict(new)\n",
    "compare(d_old,d_new)"
   ]
  },
  {
   "cell_type": "code",
   "execution_count": 11,
   "metadata": {},
   "outputs": [
    {
     "name": "stdout",
     "output_type": "stream",
     "text": [
      " UID lists identical? True\n"
     ]
    }
   ],
   "source": [
    "old = '../TSO_project/spine_data/ccni.spine.csv'\n",
    "new = 'spine_data/ccni.spine.csv'\n",
    "\n",
    "\n",
    "d_old = uid_dict(old)\n",
    "d_new = uid_dict(new)\n",
    "compare(d_old,d_new)"
   ]
  },
  {
   "cell_type": "code",
   "execution_count": 4,
   "metadata": {},
   "outputs": [
    {
     "name": "stdout",
     "output_type": "stream",
     "text": [
      " UID lists identical? True\n"
     ]
    }
   ],
   "source": [
    "old = '../TSO_project/spine_data/oscr.spine.csv'\n",
    "new = 'spine_data/oscr.spine.csv'\n",
    "\n",
    "\n",
    "d_old = uid_dict(old)\n",
    "d_new = uid_dict(new)\n",
    "compare(d_old,d_new)"
   ]
  },
  {
   "cell_type": "code",
   "execution_count": 13,
   "metadata": {},
   "outputs": [
    {
     "name": "stdout",
     "output_type": "stream",
     "text": [
      " UID lists identical? True\n"
     ]
    }
   ],
   "source": [
    "old = '../TSO_project/spine_data/CoOps_2022.spine.csv'\n",
    "new = 'spine_data/CoOps_2022.spine.csv'\n",
    "\n",
    "\n",
    "d_old = uid_dict(old)\n",
    "d_new = uid_dict(new)\n",
    "compare(d_old,d_new)"
   ]
  },
  {
   "cell_type": "code",
   "execution_count": 6,
   "metadata": {},
   "outputs": [
    {
     "data": {
      "text/plain": [
       "9798"
      ]
     },
     "execution_count": 6,
     "metadata": {},
     "output_type": "execute_result"
    }
   ],
   "source": [
    "len(d_old)"
   ]
  },
  {
   "cell_type": "code",
   "execution_count": 8,
   "metadata": {},
   "outputs": [
    {
     "data": {
      "text/plain": [
       "246"
      ]
     },
     "execution_count": 8,
     "metadata": {},
     "output_type": "execute_result"
    }
   ],
   "source": [
    "len(d_new)-len(d_old)"
   ]
  },
  {
   "cell_type": "code",
   "execution_count": 22,
   "metadata": {},
   "outputs": [],
   "source": [
    "coops='process_coops_CUK.out.csv'\n",
    "spine = '../TSO_project/processed_data/TSOUK_spine_Oct2023.csv'\n"
   ]
  },
  {
   "cell_type": "code",
   "execution_count": 24,
   "metadata": {},
   "outputs": [],
   "source": [
    "coops_dict = {}\n",
    "with open(coops,'r') as csvfile:    \n",
    "    reader = csv.DictReader(csvfile)\n",
    "    for row in reader:\n",
    "        coops_dict[row['name']] = row['postcode']"
   ]
  },
  {
   "cell_type": "code",
   "execution_count": 25,
   "metadata": {},
   "outputs": [
    {
     "data": {
      "text/plain": [
       "266"
      ]
     },
     "execution_count": 25,
     "metadata": {},
     "output_type": "execute_result"
    }
   ],
   "source": [
    "len(coops_dict)"
   ]
  },
  {
   "cell_type": "code",
   "execution_count": 26,
   "metadata": {},
   "outputs": [],
   "source": [
    "spine_dict = {}\n",
    "with open(spine,'r') as csvfile:    \n",
    "    reader = csv.DictReader(csvfile)\n",
    "    for row in reader:\n",
    "        spine_dict[row['organisationname']] = row['postcode']"
   ]
  },
  {
   "cell_type": "code",
   "execution_count": 27,
   "metadata": {},
   "outputs": [
    {
     "name": "stdout",
     "output_type": "stream",
     "text": [
      "missing name  Siop-Y-Fro\n",
      "missing name  Oakwood Academy - Visual Arts\n"
     ]
    }
   ],
   "source": [
    "for k in coops_dict.keys():\n",
    "    if not k in spine_dict.keys():\n",
    "        print('missing name ',k)"
   ]
  },
  {
   "cell_type": "code",
   "execution_count": null,
   "metadata": {},
   "outputs": [],
   "source": []
  }
 ],
 "metadata": {
  "kernelspec": {
   "display_name": ".tso",
   "language": "python",
   "name": "python3"
  },
  "language_info": {
   "codemirror_mode": {
    "name": "ipython",
    "version": 3
   },
   "file_extension": ".py",
   "mimetype": "text/x-python",
   "name": "python",
   "nbconvert_exporter": "python",
   "pygments_lexer": "ipython3",
   "version": "3.11.5"
  }
 },
 "nbformat": 4,
 "nbformat_minor": 2
}
